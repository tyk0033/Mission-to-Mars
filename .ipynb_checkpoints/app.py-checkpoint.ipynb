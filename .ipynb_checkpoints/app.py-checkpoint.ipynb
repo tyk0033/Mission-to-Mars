{
 "cells": [
  {
   "cell_type": "code",
   "execution_count": null,
   "metadata": {},
   "outputs": [],
   "source": []
  }
 ],
 "metadata": {
  "kernelspec": {
   "display_name": "Python 3.9.12 ('PythonData')",
   "language": "python",
   "name": "python3"
  },
  "language_info": {
   "name": "python",
   "version": "3.9.12"
  },
  "vscode": {
   "interpreter": {
    "hash": "265f2cc8affae1df650f8c42b0801f60fdfe8f4db44d21f049e13dd072ffa637"
   }
  }
 },
 "nbformat": 4,
 "nbformat_minor": 5
}
